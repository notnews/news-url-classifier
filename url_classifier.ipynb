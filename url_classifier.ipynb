{
 "cells": [
  {
   "cell_type": "markdown",
   "id": "f31428a6-6446-43c0-900d-9eba4949e5b7",
   "metadata": {},
   "source": [
    "### Basic URL Classifier"
   ]
  },
  {
   "cell_type": "code",
   "execution_count": 1,
   "id": "299e1332-c084-4c74-911e-e0ac09e7e053",
   "metadata": {},
   "outputs": [],
   "source": [
    "import pandas as pd\n",
    "pd.set_option('display.max_colwidth', 100)\n",
    "import requests\n",
    "from urllib.parse import urlparse\n",
    "import re\n",
    "from sklearn.feature_extraction.text import TfidfVectorizer\n",
    "from sklearn.model_selection import train_test_split\n",
    "from sklearn.linear_model import LogisticRegression\n",
    "from sklearn.metrics import accuracy_score"
   ]
  },
  {
   "cell_type": "code",
   "execution_count": 2,
   "id": "9ae6c004-005d-4c4a-b484-88b68c98d1db",
   "metadata": {},
   "outputs": [
    {
     "name": "stdout",
     "output_type": "stream",
     "text": [
      "(295, 16)\n"
     ]
    },
    {
     "data": {
      "text/html": [
       "<div>\n",
       "<style scoped>\n",
       "    .dataframe tbody tr th:only-of-type {\n",
       "        vertical-align: middle;\n",
       "    }\n",
       "\n",
       "    .dataframe tbody tr th {\n",
       "        vertical-align: top;\n",
       "    }\n",
       "\n",
       "    .dataframe thead th {\n",
       "        text-align: right;\n",
       "    }\n",
       "</style>\n",
       "<table border=\"1\" class=\"dataframe\">\n",
       "  <thead>\n",
       "    <tr style=\"text-align: right;\">\n",
       "      <th></th>\n",
       "      <th>date</th>\n",
       "      <th>time</th>\n",
       "      <th>src</th>\n",
       "      <th>order</th>\n",
       "      <th>url</th>\n",
       "      <th>link_text</th>\n",
       "      <th>homepage_keywords</th>\n",
       "      <th>path</th>\n",
       "      <th>title</th>\n",
       "      <th>text</th>\n",
       "      <th>top_image</th>\n",
       "      <th>authors</th>\n",
       "      <th>summary</th>\n",
       "      <th>keywords</th>\n",
       "      <th>sample</th>\n",
       "      <th>hard_soft</th>\n",
       "    </tr>\n",
       "  </thead>\n",
       "  <tbody>\n",
       "    <tr>\n",
       "      <th>0</th>\n",
       "      <td>20161107</td>\n",
       "      <td>50620</td>\n",
       "      <td>hpmg</td>\n",
       "      <td>64</td>\n",
       "      <td>http://www.huffingtonpost.com/entry/stay-with-me-taiwan_us_581d04fde4b0d9ce6fbc2e33</td>\n",
       "      <td>Gay Man Finds Strife Bitterness In This Haunting Short Film</td>\n",
       "      <td>breaking|daughter|clinton|woman|post|country|opinion|seeing|huffington|grow|lead|hillary|beyonc√©</td>\n",
       "      <td>NaN</td>\n",
       "      <td>NaN</td>\n",
       "      <td>NaN</td>\n",
       "      <td>NaN</td>\n",
       "      <td>NaN</td>\n",
       "      <td>NaN</td>\n",
       "      <td>NaN</td>\n",
       "      <td>1.0</td>\n",
       "      <td>0.0</td>\n",
       "    </tr>\n",
       "    <tr>\n",
       "      <th>1</th>\n",
       "      <td>20161105</td>\n",
       "      <td>200432</td>\n",
       "      <td>usat</td>\n",
       "      <td>3</td>\n",
       "      <td>http://www.usatoday.com/story/news/politics/onpolitics/2016/11/04/what-time-do-polls-open-and-cl...</td>\n",
       "      <td>On Politics             What time do polls open and close in each state on Election Day?</td>\n",
       "      <td>shipping|neiman|marcus|latest|today|thats|items|pricey|world|website|dish|usa|shell|sold</td>\n",
       "      <td>NaN</td>\n",
       "      <td>NaN</td>\n",
       "      <td>NaN</td>\n",
       "      <td>NaN</td>\n",
       "      <td>NaN</td>\n",
       "      <td>NaN</td>\n",
       "      <td>NaN</td>\n",
       "      <td>1.0</td>\n",
       "      <td>1.0</td>\n",
       "    </tr>\n",
       "    <tr>\n",
       "      <th>2</th>\n",
       "      <td>20161108</td>\n",
       "      <td>210601</td>\n",
       "      <td>wsj</td>\n",
       "      <td>25</td>\n",
       "      <td>http://www.wsj.com/articles/toyota-profit-falls-on-strong-yen-weak-u-s-sales-1478586115</td>\n",
       "      <td>Toyota Looks to Electric Cars as Stronger Yen Dents Profits</td>\n",
       "      <td>breaking|financial|went|journal|presidential|polls|republican|races|street|world|business|trump|...</td>\n",
       "      <td>NaN</td>\n",
       "      <td>NaN</td>\n",
       "      <td>NaN</td>\n",
       "      <td>NaN</td>\n",
       "      <td>NaN</td>\n",
       "      <td>NaN</td>\n",
       "      <td>NaN</td>\n",
       "      <td>1.0</td>\n",
       "      <td>1.0</td>\n",
       "    </tr>\n",
       "    <tr>\n",
       "      <th>3</th>\n",
       "      <td>20161106</td>\n",
       "      <td>40438</td>\n",
       "      <td>google</td>\n",
       "      <td>210</td>\n",
       "      <td>http://www.nj.com/essex/index.ssf/2016/11/7_stabbed_at_newark_home_official_says.html</td>\n",
       "      <td>3 killed several wounded in Newark stabbing</td>\n",
       "      <td>month|todaywith|season|google|playoff|work|safely|regular|lot|contenders|usa</td>\n",
       "      <td>NaN</td>\n",
       "      <td>NaN</td>\n",
       "      <td>NaN</td>\n",
       "      <td>NaN</td>\n",
       "      <td>NaN</td>\n",
       "      <td>NaN</td>\n",
       "      <td>NaN</td>\n",
       "      <td>1.0</td>\n",
       "      <td>1.0</td>\n",
       "    </tr>\n",
       "    <tr>\n",
       "      <th>4</th>\n",
       "      <td>20161106</td>\n",
       "      <td>40438</td>\n",
       "      <td>google</td>\n",
       "      <td>267</td>\n",
       "      <td>http://www.standard.co.uk/news/crime/million-mask-march-2016-chaotic-scenes-as-anonymous-protest...</td>\n",
       "      <td>Million Mask March 2016 Chaotic scenes as Anonymous protest descends into aggression</td>\n",
       "      <td>month|todaywith|season|google|playoff|work|safely|regular|lot|contenders|usa</td>\n",
       "      <td>NaN</td>\n",
       "      <td>NaN</td>\n",
       "      <td>NaN</td>\n",
       "      <td>NaN</td>\n",
       "      <td>NaN</td>\n",
       "      <td>NaN</td>\n",
       "      <td>NaN</td>\n",
       "      <td>1.0</td>\n",
       "      <td>1.0</td>\n",
       "    </tr>\n",
       "  </tbody>\n",
       "</table>\n",
       "</div>"
      ],
      "text/plain": [
       "       date    time     src  order  \\\n",
       "0  20161107   50620    hpmg     64   \n",
       "1  20161105  200432    usat      3   \n",
       "2  20161108  210601     wsj     25   \n",
       "3  20161106   40438  google    210   \n",
       "4  20161106   40438  google    267   \n",
       "\n",
       "                                                                                                   url  \\\n",
       "0                  http://www.huffingtonpost.com/entry/stay-with-me-taiwan_us_581d04fde4b0d9ce6fbc2e33   \n",
       "1  http://www.usatoday.com/story/news/politics/onpolitics/2016/11/04/what-time-do-polls-open-and-cl...   \n",
       "2              http://www.wsj.com/articles/toyota-profit-falls-on-strong-yen-weak-u-s-sales-1478586115   \n",
       "3                http://www.nj.com/essex/index.ssf/2016/11/7_stabbed_at_newark_home_official_says.html   \n",
       "4  http://www.standard.co.uk/news/crime/million-mask-march-2016-chaotic-scenes-as-anonymous-protest...   \n",
       "\n",
       "                                                                                  link_text  \\\n",
       "0                               Gay Man Finds Strife Bitterness In This Haunting Short Film   \n",
       "1  On Politics             What time do polls open and close in each state on Election Day?   \n",
       "2                               Toyota Looks to Electric Cars as Stronger Yen Dents Profits   \n",
       "3                                               3 killed several wounded in Newark stabbing   \n",
       "4      Million Mask March 2016 Chaotic scenes as Anonymous protest descends into aggression   \n",
       "\n",
       "                                                                                     homepage_keywords  \\\n",
       "0    breaking|daughter|clinton|woman|post|country|opinion|seeing|huffington|grow|lead|hillary|beyonc√©   \n",
       "1             shipping|neiman|marcus|latest|today|thats|items|pricey|world|website|dish|usa|shell|sold   \n",
       "2  breaking|financial|went|journal|presidential|polls|republican|races|street|world|business|trump|...   \n",
       "3                         month|todaywith|season|google|playoff|work|safely|regular|lot|contenders|usa   \n",
       "4                         month|todaywith|season|google|playoff|work|safely|regular|lot|contenders|usa   \n",
       "\n",
       "   path  title  text  top_image  authors  summary  keywords  sample  hard_soft  \n",
       "0   NaN    NaN   NaN        NaN      NaN      NaN       NaN     1.0        0.0  \n",
       "1   NaN    NaN   NaN        NaN      NaN      NaN       NaN     1.0        1.0  \n",
       "2   NaN    NaN   NaN        NaN      NaN      NaN       NaN     1.0        1.0  \n",
       "3   NaN    NaN   NaN        NaN      NaN      NaN       NaN     1.0        1.0  \n",
       "4   NaN    NaN   NaN        NaN      NaN      NaN       NaN     1.0        1.0  "
      ]
     },
     "execution_count": 2,
     "metadata": {},
     "output_type": "execute_result"
    }
   ],
   "source": [
    "df = pd.read_csv(\"current-output-homepage_with_coded_hard_soft.csv\")\n",
    "df = df.loc[df['hard_soft'].isin([0, 1])]\n",
    "print(df.shape)\n",
    "df.head(n = 5)"
   ]
  },
  {
   "cell_type": "code",
   "execution_count": 3,
   "id": "e90b47a9-75c9-4680-85e9-c1a94a1b1340",
   "metadata": {},
   "outputs": [
    {
     "data": {
      "text/plain": [
       "hard_soft\n",
       "1.0    176\n",
       "0.0    119\n",
       "Name: count, dtype: int64"
      ]
     },
     "execution_count": 3,
     "metadata": {},
     "output_type": "execute_result"
    }
   ],
   "source": [
    "df['hard_soft'].value_counts()"
   ]
  },
  {
   "cell_type": "code",
   "execution_count": 4,
   "id": "65276dce-9d8c-491f-a31f-1ee384454f7d",
   "metadata": {},
   "outputs": [],
   "source": [
    "def extract_and_tokenize_url(url):\n",
    "    if isinstance(url, str):\n",
    "        parsed_url = urlparse(url)\n",
    "        path = parsed_url.path\n",
    "        tokens = re.split(r'[/\\-]', path)\n",
    "        tokens = [token.lower() for token in tokens if token]\n",
    "        return ' '.join(tokens)\n",
    "    else:\n",
    "        return ''"
   ]
  },
  {
   "cell_type": "code",
   "execution_count": 5,
   "id": "62495269-0fde-4f19-a495-2a67ddfd72ec",
   "metadata": {},
   "outputs": [],
   "source": [
    "df[\"tokenized_url\"] = df[\"url\"].apply(extract_and_tokenize_url)"
   ]
  },
  {
   "cell_type": "code",
   "execution_count": 6,
   "id": "1555bc4f-f243-47c6-acd4-fe95f2cb9d68",
   "metadata": {},
   "outputs": [],
   "source": [
    "tfidf_vectorizer = TfidfVectorizer()\n",
    "\n",
    "tfidf_matrix = tfidf_vectorizer.fit_transform(df[\"tokenized_url\"])"
   ]
  },
  {
   "cell_type": "code",
   "execution_count": 7,
   "id": "69649a2c-3678-47ea-92d5-502374f8ab6b",
   "metadata": {},
   "outputs": [],
   "source": [
    "X_train, X_test, y_train, y_test = train_test_split(tfidf_matrix, df[\"hard_soft\"], test_size=0.2, random_state=42)"
   ]
  },
  {
   "cell_type": "code",
   "execution_count": 8,
   "id": "1511f2bc-ff2e-4d7f-bc9d-9d550d95ad9f",
   "metadata": {},
   "outputs": [
    {
     "name": "stdout",
     "output_type": "stream",
     "text": [
      "Accuracy: 0.73\n"
     ]
    }
   ],
   "source": [
    "# Initialize and train a Logistic Regression model\n",
    "model = LogisticRegression()\n",
    "model.fit(X_train, y_train)\n",
    "\n",
    "# Make predictions on the test data\n",
    "y_pred = model.predict(X_test)\n",
    "\n",
    "# Calculate accuracy\n",
    "accuracy = accuracy_score(y_test, y_pred)\n",
    "print(f\"Accuracy: {accuracy:.2f}\")"
   ]
  },
  {
   "cell_type": "code",
   "execution_count": null,
   "id": "9f0f8aaa-8c0e-4d23-9d5b-370980e5909f",
   "metadata": {},
   "outputs": [],
   "source": []
  }
 ],
 "metadata": {
  "kernelspec": {
   "display_name": "Python 3 (ipykernel)",
   "language": "python",
   "name": "python3"
  },
  "language_info": {
   "codemirror_mode": {
    "name": "ipython",
    "version": 3
   },
   "file_extension": ".py",
   "mimetype": "text/x-python",
   "name": "python",
   "nbconvert_exporter": "python",
   "pygments_lexer": "ipython3",
   "version": "3.8.10"
  }
 },
 "nbformat": 4,
 "nbformat_minor": 5
}
